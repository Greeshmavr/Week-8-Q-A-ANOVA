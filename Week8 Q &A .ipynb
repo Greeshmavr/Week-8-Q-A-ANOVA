{
 "cells": [
  {
   "cell_type": "code",
   "execution_count": null,
   "id": "20a91599",
   "metadata": {},
   "outputs": [],
   "source": [
    "#1. Explain the dataset"
   ]
  },
  {
   "cell_type": "code",
   "execution_count": 14,
   "id": "d8e2d106",
   "metadata": {},
   "outputs": [
    {
     "data": {
      "text/html": [
       "<div>\n",
       "<style scoped>\n",
       "    .dataframe tbody tr th:only-of-type {\n",
       "        vertical-align: middle;\n",
       "    }\n",
       "\n",
       "    .dataframe tbody tr th {\n",
       "        vertical-align: top;\n",
       "    }\n",
       "\n",
       "    .dataframe thead th {\n",
       "        text-align: right;\n",
       "    }\n",
       "</style>\n",
       "<table border=\"1\" class=\"dataframe\">\n",
       "  <thead>\n",
       "    <tr style=\"text-align: right;\">\n",
       "      <th></th>\n",
       "      <th>Unnamed: 0</th>\n",
       "      <th>TV</th>\n",
       "      <th>Radio</th>\n",
       "      <th>Newspaper</th>\n",
       "      <th>Sales</th>\n",
       "    </tr>\n",
       "  </thead>\n",
       "  <tbody>\n",
       "    <tr>\n",
       "      <th>0</th>\n",
       "      <td>1</td>\n",
       "      <td>230.1</td>\n",
       "      <td>37.8</td>\n",
       "      <td>69.2</td>\n",
       "      <td>22.1</td>\n",
       "    </tr>\n",
       "    <tr>\n",
       "      <th>1</th>\n",
       "      <td>2</td>\n",
       "      <td>44.5</td>\n",
       "      <td>39.3</td>\n",
       "      <td>45.1</td>\n",
       "      <td>10.4</td>\n",
       "    </tr>\n",
       "    <tr>\n",
       "      <th>2</th>\n",
       "      <td>3</td>\n",
       "      <td>17.2</td>\n",
       "      <td>45.9</td>\n",
       "      <td>69.3</td>\n",
       "      <td>9.3</td>\n",
       "    </tr>\n",
       "    <tr>\n",
       "      <th>3</th>\n",
       "      <td>4</td>\n",
       "      <td>151.5</td>\n",
       "      <td>41.3</td>\n",
       "      <td>58.5</td>\n",
       "      <td>18.5</td>\n",
       "    </tr>\n",
       "    <tr>\n",
       "      <th>4</th>\n",
       "      <td>5</td>\n",
       "      <td>180.8</td>\n",
       "      <td>10.8</td>\n",
       "      <td>58.4</td>\n",
       "      <td>12.9</td>\n",
       "    </tr>\n",
       "    <tr>\n",
       "      <th>...</th>\n",
       "      <td>...</td>\n",
       "      <td>...</td>\n",
       "      <td>...</td>\n",
       "      <td>...</td>\n",
       "      <td>...</td>\n",
       "    </tr>\n",
       "    <tr>\n",
       "      <th>195</th>\n",
       "      <td>196</td>\n",
       "      <td>38.2</td>\n",
       "      <td>3.7</td>\n",
       "      <td>13.8</td>\n",
       "      <td>7.6</td>\n",
       "    </tr>\n",
       "    <tr>\n",
       "      <th>196</th>\n",
       "      <td>197</td>\n",
       "      <td>94.2</td>\n",
       "      <td>4.9</td>\n",
       "      <td>8.1</td>\n",
       "      <td>9.7</td>\n",
       "    </tr>\n",
       "    <tr>\n",
       "      <th>197</th>\n",
       "      <td>198</td>\n",
       "      <td>177.0</td>\n",
       "      <td>9.3</td>\n",
       "      <td>6.4</td>\n",
       "      <td>12.8</td>\n",
       "    </tr>\n",
       "    <tr>\n",
       "      <th>198</th>\n",
       "      <td>199</td>\n",
       "      <td>283.6</td>\n",
       "      <td>42.0</td>\n",
       "      <td>66.2</td>\n",
       "      <td>25.5</td>\n",
       "    </tr>\n",
       "    <tr>\n",
       "      <th>199</th>\n",
       "      <td>200</td>\n",
       "      <td>232.1</td>\n",
       "      <td>8.6</td>\n",
       "      <td>8.7</td>\n",
       "      <td>13.4</td>\n",
       "    </tr>\n",
       "  </tbody>\n",
       "</table>\n",
       "<p>200 rows × 5 columns</p>\n",
       "</div>"
      ],
      "text/plain": [
       "     Unnamed: 0     TV  Radio  Newspaper  Sales\n",
       "0             1  230.1   37.8       69.2   22.1\n",
       "1             2   44.5   39.3       45.1   10.4\n",
       "2             3   17.2   45.9       69.3    9.3\n",
       "3             4  151.5   41.3       58.5   18.5\n",
       "4             5  180.8   10.8       58.4   12.9\n",
       "..          ...    ...    ...        ...    ...\n",
       "195         196   38.2    3.7       13.8    7.6\n",
       "196         197   94.2    4.9        8.1    9.7\n",
       "197         198  177.0    9.3        6.4   12.8\n",
       "198         199  283.6   42.0       66.2   25.5\n",
       "199         200  232.1    8.6        8.7   13.4\n",
       "\n",
       "[200 rows x 5 columns]"
      ]
     },
     "execution_count": 14,
     "metadata": {},
     "output_type": "execute_result"
    }
   ],
   "source": [
    "import pandas as pd\n",
    "add_media = pd.read_csv('Advertising.csv')\n",
    "add_media"
   ]
  },
  {
   "cell_type": "code",
   "execution_count": 15,
   "id": "43cbf4db",
   "metadata": {},
   "outputs": [
    {
     "name": "stdout",
     "output_type": "stream",
     "text": [
      "<class 'pandas.core.frame.DataFrame'>\n",
      "RangeIndex: 200 entries, 0 to 199\n",
      "Data columns (total 5 columns):\n",
      " #   Column      Non-Null Count  Dtype  \n",
      "---  ------      --------------  -----  \n",
      " 0   Unnamed: 0  200 non-null    int64  \n",
      " 1   TV          200 non-null    float64\n",
      " 2   Radio       200 non-null    float64\n",
      " 3   Newspaper   200 non-null    float64\n",
      " 4   Sales       200 non-null    float64\n",
      "dtypes: float64(4), int64(1)\n",
      "memory usage: 7.9 KB\n"
     ]
    }
   ],
   "source": [
    "add_media.info()"
   ]
  },
  {
   "cell_type": "code",
   "execution_count": 6,
   "id": "28867c51",
   "metadata": {},
   "outputs": [],
   "source": [
    "#2. Check the summary statistics and discuss the max, min, avg, median,and percentiles"
   ]
  },
  {
   "cell_type": "code",
   "execution_count": 16,
   "id": "a50e3446",
   "metadata": {},
   "outputs": [
    {
     "data": {
      "text/html": [
       "<div>\n",
       "<style scoped>\n",
       "    .dataframe tbody tr th:only-of-type {\n",
       "        vertical-align: middle;\n",
       "    }\n",
       "\n",
       "    .dataframe tbody tr th {\n",
       "        vertical-align: top;\n",
       "    }\n",
       "\n",
       "    .dataframe thead th {\n",
       "        text-align: right;\n",
       "    }\n",
       "</style>\n",
       "<table border=\"1\" class=\"dataframe\">\n",
       "  <thead>\n",
       "    <tr style=\"text-align: right;\">\n",
       "      <th></th>\n",
       "      <th>TV</th>\n",
       "      <th>Radio</th>\n",
       "      <th>Newspaper</th>\n",
       "      <th>Sales</th>\n",
       "    </tr>\n",
       "  </thead>\n",
       "  <tbody>\n",
       "    <tr>\n",
       "      <th>count</th>\n",
       "      <td>200.000000</td>\n",
       "      <td>200.000000</td>\n",
       "      <td>200.000000</td>\n",
       "      <td>200.000000</td>\n",
       "    </tr>\n",
       "    <tr>\n",
       "      <th>mean</th>\n",
       "      <td>147.042500</td>\n",
       "      <td>23.264000</td>\n",
       "      <td>30.554000</td>\n",
       "      <td>14.022500</td>\n",
       "    </tr>\n",
       "    <tr>\n",
       "      <th>std</th>\n",
       "      <td>85.854236</td>\n",
       "      <td>14.846809</td>\n",
       "      <td>21.778621</td>\n",
       "      <td>5.217457</td>\n",
       "    </tr>\n",
       "    <tr>\n",
       "      <th>min</th>\n",
       "      <td>0.700000</td>\n",
       "      <td>0.000000</td>\n",
       "      <td>0.300000</td>\n",
       "      <td>1.600000</td>\n",
       "    </tr>\n",
       "    <tr>\n",
       "      <th>25%</th>\n",
       "      <td>74.375000</td>\n",
       "      <td>9.975000</td>\n",
       "      <td>12.750000</td>\n",
       "      <td>10.375000</td>\n",
       "    </tr>\n",
       "    <tr>\n",
       "      <th>50%</th>\n",
       "      <td>149.750000</td>\n",
       "      <td>22.900000</td>\n",
       "      <td>25.750000</td>\n",
       "      <td>12.900000</td>\n",
       "    </tr>\n",
       "    <tr>\n",
       "      <th>75%</th>\n",
       "      <td>218.825000</td>\n",
       "      <td>36.525000</td>\n",
       "      <td>45.100000</td>\n",
       "      <td>17.400000</td>\n",
       "    </tr>\n",
       "    <tr>\n",
       "      <th>max</th>\n",
       "      <td>296.400000</td>\n",
       "      <td>49.600000</td>\n",
       "      <td>114.000000</td>\n",
       "      <td>27.000000</td>\n",
       "    </tr>\n",
       "  </tbody>\n",
       "</table>\n",
       "</div>"
      ],
      "text/plain": [
       "               TV       Radio   Newspaper       Sales\n",
       "count  200.000000  200.000000  200.000000  200.000000\n",
       "mean   147.042500   23.264000   30.554000   14.022500\n",
       "std     85.854236   14.846809   21.778621    5.217457\n",
       "min      0.700000    0.000000    0.300000    1.600000\n",
       "25%     74.375000    9.975000   12.750000   10.375000\n",
       "50%    149.750000   22.900000   25.750000   12.900000\n",
       "75%    218.825000   36.525000   45.100000   17.400000\n",
       "max    296.400000   49.600000  114.000000   27.000000"
      ]
     },
     "execution_count": 16,
     "metadata": {},
     "output_type": "execute_result"
    }
   ],
   "source": [
    "add_media.describe(exclude=[int])"
   ]
  },
  {
   "cell_type": "markdown",
   "id": "b0183109",
   "metadata": {},
   "source": [
    "2.1 Analysing Maximum value \n",
    "\n",
    "Advertising through TV       :296.40 \n",
    "                   Radio     :49.60 \n",
    "                   Newspaper :114.00 \n",
    "                   sales     :27.00\n",
    "Hightest spent on TV advertising\n",
    "\n",
    "2.2 Analysing Minimum value \n",
    "                    TV       :0.7\n",
    "                   Radio     :0\n",
    "                   Newspaper :0.3 \n",
    "                   sales     :1.6                 \n",
    "\n",
    "Lowest spent on Radio\n",
    "\n",
    "2.3 Analysing Average/Mean \n",
    "                   TV       :147.04\n",
    "                   Radio     :23.26\n",
    "                   Newspaper :30.55\n",
    "                   sales     :14.02   \n",
    "Mean advertisement expenditure across columns,Tv occupies first position, Newspaper occupies second position and Radio third position.\n",
    "\n",
    "2.4 Analysing median value across columns\n",
    "                   TV       :149.75\n",
    "                   Radio     :22.9\n",
    "                   Newspaper :25.75\n",
    "                   sales     :12.9\n",
    " Comparing median advertisement expenditure across columns,Tv occupies first position, Newspaper occupies second position and Radio third position.\n",
    "\n",
    "\n",
    "2.5 Analysing percentiles across columns\n",
    "\n",
    "Percentiles(TV column):\n",
    "\n",
    "25% of the values are less than or equal to 74.375 OR 75 % of the values are greater than or equal to 74.375; 50 % of the values are less than or equal to 149.75 OR 50 % of the values are greater than or equal to 149.75 (the 50 percentile defines median);75% of the values are less than or equal to 218.825 OR 25 % of the values are greater than or equal to 218.825\n",
    "\n",
    "Percentiles(Radio column):\n",
    "\n",
    "25% of the values are less than or equal to 9.975;50 % of the values are less than or equal to 22.90 ;75% of the values are less than or equal to 36.525\n",
    "\n",
    "Percentiles(Newspaper column):\n",
    "\n",
    "25% of the values are less than or equal to 12.75;50 % of the values are less than or equal to 25.75 ;75% of the values are less than or equal to 45.10\n",
    "\n"
   ]
  },
  {
   "cell_type": "code",
   "execution_count": null,
   "id": "2668a88c",
   "metadata": {},
   "outputs": [],
   "source": [
    "#3. The manager wants to find out whether the same amount was spent for the three advertisements (TV , Radio and Newspaper). Comment\n",
    "#on your findings."
   ]
  },
  {
   "cell_type": "code",
   "execution_count": null,
   "id": "0f68f763",
   "metadata": {},
   "outputs": [],
   "source": [
    "# Stating the hypothesis\n"
   ]
  },
  {
   "cell_type": "markdown",
   "id": "a76e3c7b",
   "metadata": {},
   "source": [
    "H0= Same amount was spent for the three advertisements,µ1=µ2=µ3\n",
    "\n",
    "Ha= Amount spent for atleast one advertisement differs from the rest,All μ are not equal"
   ]
  },
  {
   "cell_type": "code",
   "execution_count": null,
   "id": "b7c595f8",
   "metadata": {},
   "outputs": [],
   "source": [
    "# setting the significance level"
   ]
  },
  {
   "cell_type": "markdown",
   "id": "dac833be",
   "metadata": {},
   "source": [
    "Considering significance level(α)=0.05 or 5%"
   ]
  },
  {
   "cell_type": "code",
   "execution_count": null,
   "id": "7dab3f9b",
   "metadata": {},
   "outputs": [],
   "source": [
    "# Determining p value using one way anova (for comparing means from 3 groups)"
   ]
  },
  {
   "cell_type": "code",
   "execution_count": 17,
   "id": "036be670",
   "metadata": {},
   "outputs": [
    {
     "data": {
      "text/plain": [
       "F_onewayResult(statistic=358.8514595342597, pvalue=4.552931539744962e-103)"
      ]
     },
     "execution_count": 17,
     "metadata": {},
     "output_type": "execute_result"
    }
   ],
   "source": [
    "import numpy as np\n",
    "from scipy.stats import f_oneway\n",
    "x=np.array(add_media['TV'])\n",
    "y=np.array(add_media['Radio'])\n",
    "z=np.array(add_media['Newspaper'])\n",
    "f_oneway(x,y,z)"
   ]
  },
  {
   "cell_type": "code",
   "execution_count": null,
   "id": "8b642444",
   "metadata": {},
   "outputs": [],
   "source": [
    "# comparing p value with significance level(0.05) "
   ]
  },
  {
   "cell_type": "markdown",
   "id": "f2e4b703",
   "metadata": {},
   "source": [
    "p value: 4.552931539744962e-103  < 0.05\n",
    "Rejecting the null hypothesis\n",
    "\n",
    "Since p value is less than the selected significance level of 0.05 ,rejecting the null hypothesis\n",
    "The amount spent for atleast one advertisement differs from the rest i.e, All μ are not equal"
   ]
  },
  {
   "cell_type": "code",
   "execution_count": null,
   "id": "3112b432",
   "metadata": {},
   "outputs": [],
   "source": []
  }
 ],
 "metadata": {
  "kernelspec": {
   "display_name": "Python 3 (ipykernel)",
   "language": "python",
   "name": "python3"
  },
  "language_info": {
   "codemirror_mode": {
    "name": "ipython",
    "version": 3
   },
   "file_extension": ".py",
   "mimetype": "text/x-python",
   "name": "python",
   "nbconvert_exporter": "python",
   "pygments_lexer": "ipython3",
   "version": "3.9.7"
  }
 },
 "nbformat": 4,
 "nbformat_minor": 5
}
